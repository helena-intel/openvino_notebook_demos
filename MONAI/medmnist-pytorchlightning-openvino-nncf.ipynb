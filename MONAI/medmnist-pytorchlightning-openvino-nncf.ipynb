{
 "cells": [
  {
   "cell_type": "code",
   "execution_count": null,
   "id": "094cfd4d-35b9-4e4b-9b44-b417bd4e13b0",
   "metadata": {
    "tags": []
   },
   "outputs": [],
   "source": [
    "%pip install --quiet --upgrade monai pytorch_lightning git+https://github.com/MedMNIST/MedMNIST.git pytorch_lightning openvino-dev"
   ]
  },
  {
   "cell_type": "code",
   "execution_count": null,
   "id": "bc9c1ee4-7d83-4607-bd5c-3980d8ab46cd",
   "metadata": {
    "tags": []
   },
   "outputs": [],
   "source": [
    "## full dataset\n",
    "# https://scholar.cu.edu.eg/?q=afahmy/pages/dataset\n",
    "# https://www.ncbi.nlm.nih.gov/pmc/articles/PMC6906728/\n",
    "# http://arxiv-export-lb.library.cornell.edu/pdf/2110.14795"
   ]
  },
  {
   "cell_type": "markdown",
   "id": "8cf5d50d-acad-44d7-a7b2-5d5138c6fe8c",
   "metadata": {},
   "source": [
    "## Imports"
   ]
  },
  {
   "cell_type": "code",
   "execution_count": null,
   "id": "34db1c72-8d54-4192-8ffa-ee2ebab67c9c",
   "metadata": {
    "tags": []
   },
   "outputs": [],
   "source": [
    "import copy\n",
    "import datetime\n",
    "import os\n",
    "import random\n",
    "import sys\n",
    "from pathlib import Path\n",
    "\n",
    "import dateutil\n",
    "import matplotlib.pyplot as plt\n",
    "import medmnist\n",
    "import monai\n",
    "import numpy as np\n",
    "import pytorch_lightning as pl\n",
    "import torch\n",
    "import nncf  # Important - should be imported directly after torch\n",
    "from nncf import NNCFConfig\n",
    "from nncf.torch import create_compressed_model\n",
    "from nncf.torch import register_default_init_args\n",
    "from addict import Dict\n",
    "\n",
    "from compression.api import DataLoader, Metric\n",
    "from compression.engines.ie_engine import IEEngine\n",
    "from compression.graph import load_model, save_model\n",
    "from compression.graph.model_utils import compress_model_weights\n",
    "from compression.pipeline.initializer import create_pipeline\n",
    "from monai.data import Dataset\n",
    "from monai.networks.nets import DenseNet\n",
    "from monai.transforms import AddChannel, Compose, EnsureType, ToTensor\n",
    "from openvino.inference_engine import IECore\n",
    "from pytorch_lightning.callbacks import ModelCheckpoint\n",
    "from pytorch_lightning.loggers import TensorBoardLogger\n",
    "from torch.utils.data import DataLoader as TorchDataLoader\n",
    "from IPython.display import display, Markdown"
   ]
  },
  {
   "cell_type": "markdown",
   "id": "1f489894-b633-4d9c-8f24-2478e380a2fa",
   "metadata": {},
   "source": [
    "## PyTorch Lightning Monai Model"
   ]
  },
  {
   "cell_type": "code",
   "execution_count": null,
   "id": "247110f4-9b80-4fdb-bccc-2448e4d0e833",
   "metadata": {
    "tags": []
   },
   "outputs": [],
   "source": [
    "class MonaiModel(pl.LightningModule):\n",
    "    def __init__(self):\n",
    "        super().__init__()\n",
    "\n",
    "        # self._model = DenseNet121(spatial_dims=2, in_channels=1, out_channels=2, init_features=4, growth_rate=4)\n",
    "        self._model = DenseNet(\n",
    "            spatial_dims=2, in_channels=1, out_channels=1, block_config=[4, 8, 6]\n",
    "        ).cpu()\n",
    "\n",
    "        # https://docs.monai.io/en/latest/highlights.html?deterministic-training-for-reproducibility\n",
    "        monai.utils.set_determinism(seed=2.71828, additional_settings=None)\n",
    "\n",
    "        self.loss_function = torch.nn.BCEWithLogitsLoss()\n",
    "        self.metric = monai.metrics.ConfusionMatrixMetric(metric_name=\"accuracy\")\n",
    "        self.best_val_accuracy = 0\n",
    "        self.best_val_epoch = 0\n",
    "\n",
    "    def forward(self, x):\n",
    "        return self._model(x)\n",
    "\n",
    "    def configure_optimizers(self):\n",
    "        optimizer = torch.optim.Adam(self._model.parameters())\n",
    "        return optimizer\n",
    "\n",
    "    def training_step(self, batch, batch_idx):\n",
    "        images, labels = batch\n",
    "        labels = labels.float()\n",
    "        output = self.forward(images)\n",
    "        loss = self.loss_function(output, labels)\n",
    "        self.log(\"train_loss\", loss.item())\n",
    "        return loss\n",
    "\n",
    "    def validation_step(self, batch, batch_idx):\n",
    "        images, labels = batch\n",
    "        labels = labels.float()\n",
    "        output = self.forward(images)\n",
    "        loss = self.loss_function(output, labels)\n",
    "\n",
    "        # Compute statistics for metric computation\n",
    "        y_true = labels.long()\n",
    "        y_pred = torch.sigmoid(output).round().long()\n",
    "        self.metric(y_pred, y_true)\n",
    "\n",
    "        self.log(\"val_loss\", loss)\n",
    "        return {\"val_loss\": loss, \"val_number\": len(output)}\n",
    "\n",
    "    def validation_epoch_end(self, outputs):\n",
    "        val_loss, num_items = 0, 0\n",
    "\n",
    "        for output in outputs:\n",
    "            val_loss += output[\"val_loss\"].sum().item()\n",
    "            num_items += output[\"val_number\"]\n",
    "        # mean_val_dice = self.metric.avg_value[\"F1\"]\n",
    "        # self.metric.reset()\n",
    "        mean_val_accuracy = self.metric.aggregate()[0].item()\n",
    "        mean_val_loss = torch.tensor(val_loss / num_items)\n",
    "        self.logger.experiment.add_scalar(\"Loss/Validation\", mean_val_loss, self.current_epoch)\n",
    "        self.logger.experiment.add_scalar(\n",
    "            \"Accuracy/Validation\", mean_val_accuracy, self.current_epoch\n",
    "        )\n",
    "        self.log(\"accuracy\", mean_val_accuracy, prog_bar=True, logger=False)\n",
    "\n",
    "        if mean_val_accuracy > self.best_val_accuracy:\n",
    "            self.best_val_accuracy = mean_val_accuracy\n",
    "            self.best_val_epoch = self.current_epoch"
   ]
  },
  {
   "cell_type": "markdown",
   "id": "d16f3a6b-304e-494c-b46d-657b6f19c21d",
   "metadata": {},
   "source": [
    "## PyTorch Lightning DataModule"
   ]
  },
  {
   "cell_type": "code",
   "execution_count": null,
   "id": "bc2e9fa6-3ec8-47b4-9c52-b36361e02753",
   "metadata": {
    "tags": []
   },
   "outputs": [],
   "source": [
    "class DataModule(pl.LightningDataModule):\n",
    "    def __init__(self, batch_size):\n",
    "        super().__init__()\n",
    "        self.batch_size = batch_size\n",
    "\n",
    "    def setup(self, stage=None):\n",
    "        random.seed(1.414213)\n",
    "        transforms = Compose([ToTensor(dtype=torch.float), AddChannel(), EnsureType()])\n",
    "\n",
    "        train_data = medmnist.BreastMNIST(split=\"train\", transform=None, download=True)\n",
    "        val_data = medmnist.BreastMNIST(split=\"val\", transform=None, download=True)\n",
    "\n",
    "        self.dataset_train = Dataset(\n",
    "            [(np.array(item[0]), item[1][0]) for item in train_data], transform=transforms\n",
    "        )\n",
    "        self.dataset_val = Dataset(\n",
    "            [(np.array(item[0]), item[1][0]) for item in val_data], transform=transforms\n",
    "        )\n",
    "\n",
    "        print(f\"Setup train dataset: {len(self.dataset_train)} items\")\n",
    "        print(f\"Setup val dataset: {len(self.dataset_val)} items\")\n",
    "\n",
    "        assert len(self.dataset_train) > 0, \"Train dataset is empty.\"\n",
    "        assert len(self.dataset_val) > 0, \"Val dataset is empty\"\n",
    "\n",
    "    def train_dataloader(self):\n",
    "        return TorchDataLoader(\n",
    "            self.dataset_train,\n",
    "            batch_size=self.batch_size,\n",
    "            shuffle=True,\n",
    "            num_workers=0,\n",
    "            pin_memory=torch.cuda.is_available(),\n",
    "        )\n",
    "\n",
    "    def val_dataloader(self):\n",
    "        return TorchDataLoader(\n",
    "            self.dataset_val,\n",
    "            batch_size=self.batch_size,\n",
    "            num_workers=0,\n",
    "            shuffle=False,\n",
    "            pin_memory=torch.cuda.is_available(),\n",
    "        )\n",
    "\n",
    "    def test_dataloader(self):\n",
    "        return self.val_dataloader()"
   ]
  },
  {
   "cell_type": "code",
   "execution_count": null,
   "id": "69f40163-6795-445d-b930-81353afeb416",
   "metadata": {
    "tags": []
   },
   "outputs": [],
   "source": [
    "# %load_ext tensorboard\n",
    "# %tensorboard --logdir tb_logs --bind_all"
   ]
  },
  {
   "cell_type": "markdown",
   "id": "903f7f9c-ea9c-48cb-b3c9-a172caa33736",
   "metadata": {},
   "source": [
    "## Train"
   ]
  },
  {
   "cell_type": "code",
   "execution_count": null,
   "id": "c0e34c28-079c-4bff-8eed-242e49a9b67a",
   "metadata": {
    "tags": []
   },
   "outputs": [],
   "source": [
    "data = DataModule(batch_size=24)\n",
    "monai_model = MonaiModel()"
   ]
  },
  {
   "cell_type": "code",
   "execution_count": null,
   "id": "11531a75-e879-4756-97e6-30801bcf959f",
   "metadata": {
    "tags": []
   },
   "outputs": [],
   "source": [
    "logger = TensorBoardLogger(\"tb_logs\", name=\"medmnist_breast\")\n",
    "checkpoint_callback = ModelCheckpoint(monitor=\"accuracy\", mode=\"max\", save_top_k=3)"
   ]
  },
  {
   "cell_type": "code",
   "execution_count": null,
   "id": "4157ce29-7bdd-4422-928e-3fdecfad3f32",
   "metadata": {
    "tags": []
   },
   "outputs": [],
   "source": [
    "data.setup()\n",
    "input_image, input_label = next(iter(data.val_dataloader()))"
   ]
  },
  {
   "cell_type": "code",
   "execution_count": null,
   "id": "938a2ee8-340e-4692-9a24-07c655d669d7",
   "metadata": {
    "tags": []
   },
   "outputs": [],
   "source": [
    "USE_CUDA = False\n",
    "trainer = pl.Trainer(\n",
    "    max_epochs=50,\n",
    "    gpus=1 if USE_CUDA else 0,\n",
    "    logger=logger,\n",
    "    precision=16 if USE_CUDA else 32,\n",
    "    limit_train_batches=0.5,\n",
    "    # callbacks=[checkpoint_callback],\n",
    "    fast_dev_run=False,  # set to True to quickly test Lightning model\n",
    ")\n",
    "\n",
    "start = datetime.datetime.now()\n",
    "print(start.strftime(\"%H:%M:%S\"))\n",
    "trainer.fit(monai_model, data)\n",
    "end = datetime.datetime.now()\n",
    "print(end.strftime(\"%H:%M:%S\"))\n",
    "delta = dateutil.relativedelta.relativedelta(end, start)\n",
    "print(f\"Training duration: {delta.hours:02d}:{delta.minutes:02d}:{delta.seconds:02d}\")"
   ]
  },
  {
   "cell_type": "markdown",
   "id": "3d98752a-4583-4f51-a35a-f4f207982cbb",
   "metadata": {},
   "source": [
    "## Convert to ONNX"
   ]
  },
  {
   "cell_type": "code",
   "execution_count": null,
   "id": "3a79260a-9cd4-476b-a5b4-7f6550874a54",
   "metadata": {
    "tags": []
   },
   "outputs": [],
   "source": [
    "onnx_path = \"medmnist_breast.onnx\"\n",
    "dummy_input = torch.randn(1, 1, 28, 28)\n",
    "torch.onnx.export(monai_model._model.cpu().eval(), dummy_input, onnx_path, opset_version=10)\n",
    "print(f\"Exported ONNX model to {onnx_path}\")"
   ]
  },
  {
   "cell_type": "markdown",
   "id": "29724ea1-4b7f-4347-9478-3ec91b1d167d",
   "metadata": {},
   "source": [
    "## NNCF"
   ]
  },
  {
   "cell_type": "code",
   "execution_count": null,
   "id": "8b63e2fe-63d6-4c9c-838a-6c1a598901e5",
   "metadata": {},
   "outputs": [],
   "source": [
    "OUTPUT_DIR = Path(\"output\")\n",
    "OUTPUT_DIR.mkdir(exist_ok=True)\n",
    "\n",
    "nncf_config_dict = {\n",
    "    \"input_info\": {\"sample_size\": [1, 1, 28, 28]},\n",
    "    \"log_dir\": str(OUTPUT_DIR),  # log directory for NNCF-specific logging outputs\n",
    "    \"compression\": {\n",
    "        \"algorithm\": \"quantization\",  # specify the algorithm here\n",
    "    },\n",
    "}\n",
    "nncf_config = NNCFConfig.from_dict(nncf_config_dict)"
   ]
  },
  {
   "cell_type": "code",
   "execution_count": null,
   "id": "190c20d7-417e-40ce-b16f-4abe40b969cd",
   "metadata": {},
   "outputs": [],
   "source": [
    "train_loader = data.train_dataloader()\n",
    "nncf_config = register_default_init_args(nncf_config, train_loader)"
   ]
  },
  {
   "cell_type": "code",
   "execution_count": null,
   "id": "82beff20-e615-407e-a87d-8bf4a71f040e",
   "metadata": {},
   "outputs": [],
   "source": [
    "compression_ctrl, model = create_compressed_model(monai_model._model, nncf_config);"
   ]
  },
  {
   "cell_type": "code",
   "execution_count": null,
   "id": "aaedda9a-7908-47bf-94b3-b373693aaed7",
   "metadata": {
    "tags": []
   },
   "outputs": [],
   "source": [
    "monai_model._model = model\n",
    "\n",
    "trainer = pl.Trainer(\n",
    "    max_epochs=10,\n",
    "    gpus=1 if USE_CUDA else 0,\n",
    "    logger=logger,\n",
    "    limit_train_batches=0.5,\n",
    "    limit_val_batches=0.5,\n",
    "    # callbacks=[checkpoint_callback],\n",
    "    fast_dev_run=False,  # set to True to quickly test Lightning model\n",
    ")\n",
    "\n",
    "start = datetime.datetime.now()\n",
    "print(start.strftime(\"%H:%M:%S\"))\n",
    "trainer.fit(monai_model, data)\n",
    "end = datetime.datetime.now()\n",
    "print(end.strftime(\"%H:%M:%S\"))\n",
    "delta = dateutil.relativedelta.relativedelta(end, start)\n",
    "print(f\"Training duration: {delta.hours:02d}:{delta.minutes:02d}:{delta.seconds:02d}\")"
   ]
  },
  {
   "cell_type": "code",
   "execution_count": null,
   "id": "2958a813-0dfe-4b04-bd19-bab306d47c67",
   "metadata": {},
   "outputs": [],
   "source": [
    "compression_ctrl.export_model(\"medmnist_breast_nncf_int8.onnx\")"
   ]
  },
  {
   "cell_type": "code",
   "execution_count": null,
   "id": "9aa2e944-fbc9-4fca-87e9-b2324dca6238",
   "metadata": {},
   "outputs": [],
   "source": [
    "!mo --data_type FP16 --input_model medmnist_breast_nncf_int8.onnx"
   ]
  },
  {
   "cell_type": "code",
   "execution_count": null,
   "id": "5e416576-3b9d-4fa9-a3e6-7ad2706ca88e",
   "metadata": {},
   "outputs": [],
   "source": [
    "!mo --data_type FP16 --input_model medmnist_breast.onnx"
   ]
  },
  {
   "cell_type": "markdown",
   "id": "7f9aeedc-f1e8-4a88-981e-f57287205559",
   "metadata": {},
   "source": [
    "## Benchmark"
   ]
  },
  {
   "cell_type": "code",
   "execution_count": null,
   "id": "10092fcc-b386-4066-921a-01cf13e53d5b",
   "metadata": {},
   "outputs": [],
   "source": [
    "def benchmark_model(model_path: os.PathLike,\n",
    "                    device: str = \"CPU\",\n",
    "                    seconds: int = 60, api: str = \"async\",\n",
    "                    batch: int = 1, \n",
    "                    cache_dir=\"model_cache\"):\n",
    "    ie = IECore()\n",
    "    model_path = Path(model_path)\n",
    "    if (\"GPU\" in device) and (\"GPU\" not in ie.available_devices):\n",
    "        raise ValueError(f\"A GPU device is not available. Available devices are: {ie.available_devices}\")\n",
    "    else:\n",
    "        benchmark_command = f\"benchmark_app -m {model_path} -d {device} -t {seconds} -api {api} -b {batch} -cdir {cache_dir}\"\n",
    "        display(Markdown(f\"**Benchmark {model_path.name} with {device} for {seconds} seconds with {api} inference**\"));\n",
    "        display(Markdown(f\"Benchmark command: `{benchmark_command}`\"));\n",
    "\n",
    "        benchmark_output = %sx $benchmark_command\n",
    "        benchmark_result = [line for line in benchmark_output\n",
    "                            if not (line.startswith(r\"[\") or line.startswith(\"  \") or line == \"\")]\n",
    "        print(\"\\n\".join(benchmark_result))\n",
    "        print()\n",
    "        if \"MULTI\" in device:\n",
    "            devices = device.replace(\"MULTI:\",\"\").split(\",\")\n",
    "            for single_device in devices:\n",
    "                print(f\"{single_device} device: {ie.get_metric(device_name=single_device, metric_name='FULL_DEVICE_NAME')}\")\n",
    "        else:\n",
    "            print(f\"Device: {ie.get_metric(device_name=device, metric_name='FULL_DEVICE_NAME')}\")"
   ]
  },
  {
   "cell_type": "code",
   "execution_count": null,
   "id": "5d57ecfa-4bcf-47cb-8ea6-cc349b236794",
   "metadata": {},
   "outputs": [],
   "source": [
    "## FP32 model\n",
    "benchmark_model(\"medmnist_breast.xml\", device=\"CPU\", seconds=15)"
   ]
  },
  {
   "cell_type": "code",
   "execution_count": null,
   "id": "11195a2c-2f9f-456b-a278-053a0376fe8b",
   "metadata": {},
   "outputs": [],
   "source": [
    "## INT8 model\n",
    "benchmark_model(\"medmnist_breast_nncf_int8.xml\", \"CPU\", seconds=15)"
   ]
  },
  {
   "cell_type": "markdown",
   "id": "a521543b-dbc4-4d0c-8aac-87b96ac5e42a",
   "metadata": {},
   "source": [
    "## Check Accuracy"
   ]
  },
  {
   "cell_type": "code",
   "execution_count": null,
   "id": "540da921-88f9-48df-98cf-50bb0acfbe2c",
   "metadata": {},
   "outputs": [],
   "source": [
    "# The sigmoid function is used to transform the result of the network\n",
    "# to binary segmentation masks\n",
    "def sigmoid(x):\n",
    "    return np.exp(-np.logaddexp(0, -x))\n",
    "\n",
    "model_files = [\"medmnist_breast.xml\", \"medmnist_breast_nncf_int8.xml\"]\n",
    "\n",
    "ie = IECore()\n",
    "\n",
    "data = DataModule(batch_size=6)\n",
    "data.setup()\n",
    "\n",
    "for model_xml in model_files:\n",
    "    net = ie.read_network(model_xml)\n",
    "    net.batch_size = 6\n",
    "    counts = []\n",
    "    exec_net = ie.load_network(net, \"CPU\")\n",
    "    input_layer = next(iter(exec_net.input_info))\n",
    "    output_layer = next(iter(exec_net.outputs))\n",
    "    for input_image, input_label in data.val_dataloader():\n",
    "        raw_result = exec_net.infer(inputs={input_layer: input_image})[output_layer]\n",
    "        result = sigmoid(raw_result).round().astype(np.uint8)\n",
    "        counts.append(input_label.numpy().squeeze() == result.squeeze())\n",
    "\n",
    "    accuracy = np.count_nonzero(counts) / np.size(counts)\n",
    "    print(model_xml, accuracy)"
   ]
  },
  {
   "cell_type": "code",
   "execution_count": null,
   "id": "bd40b99d-54d2-401e-88a2-2876ee1ecfee",
   "metadata": {},
   "outputs": [],
   "source": []
  }
 ],
 "metadata": {
  "kernelspec": {
   "display_name": "openvino_env",
   "language": "python",
   "name": "openvino_env"
  },
  "language_info": {
   "codemirror_mode": {
    "name": "ipython",
    "version": 3
   },
   "file_extension": ".py",
   "mimetype": "text/x-python",
   "name": "python",
   "nbconvert_exporter": "python",
   "pygments_lexer": "ipython3",
   "version": "3.8.10"
  }
 },
 "nbformat": 4,
 "nbformat_minor": 5
}
